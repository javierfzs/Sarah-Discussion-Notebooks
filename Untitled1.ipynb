{
 "cells": [
  {
   "cell_type": "code",
   "execution_count": 150,
   "metadata": {},
   "outputs": [],
   "source": [
    "# import statements belong at the top of your code\n",
    "import os\n",
    "import requests\n",
    "import PyPDF2 \n",
    "import spacy\n",
    "#import pandas as pd"
   ]
  },
  {
   "cell_type": "code",
   "execution_count": 151,
   "metadata": {},
   "outputs": [],
   "source": [
    "nlp = spacy.load(\"en_core_web_sm\") #English"
   ]
  },
  {
   "cell_type": "code",
   "execution_count": 152,
   "metadata": {},
   "outputs": [],
   "source": [
    "text = r\"The oil price will increase. The coal price will decrease. The oil emissions will decline. However, the oil production will increase. In addition, oil price will raise\"\n",
    "doc = nlp(text)\n",
    "doc\n",
    "tokenized_page=doc"
   ]
  },
  {
   "cell_type": "code",
   "execution_count": 153,
   "metadata": {},
   "outputs": [
    {
     "data": {
      "text/plain": [
       "[oil, coal, oil, oil, oil]"
      ]
     },
     "execution_count": 153,
     "metadata": {},
     "output_type": "execute_result"
    }
   ],
   "source": [
    "energy_terms = ['coal', 'oil']\n",
    "energy_tokens = [t for t in tokenized_page if any([e in t.string for e in energy_terms])]\n",
    "energy_tokens"
   ]
  },
  {
   "cell_type": "code",
   "execution_count": 154,
   "metadata": {},
   "outputs": [
    {
     "data": {
      "text/plain": [
       "[[price, increase],\n",
       " [price, decrease],\n",
       " [emissions, decline],\n",
       " [production, increase],\n",
       " [price, raise]]"
      ]
     },
     "execution_count": 154,
     "metadata": {},
     "output_type": "execute_result"
    }
   ],
   "source": [
    "energy_ancs = [list(t.ancestors) for t in energy_tokens]\n",
    "energy_ancs"
   ]
  },
  {
   "cell_type": "code",
   "execution_count": 155,
   "metadata": {},
   "outputs": [],
   "source": [
    "for ele_energy_ancs, ele_energy_tokens in zip(energy_ancs, energy_tokens):\n",
    "    ele_energy_ancs.append(ele_energy_tokens)"
   ]
  },
  {
   "cell_type": "code",
   "execution_count": 156,
   "metadata": {},
   "outputs": [
    {
     "data": {
      "text/plain": [
       "[[price, increase, oil],\n",
       " [price, decrease, coal],\n",
       " [emissions, decline, oil],\n",
       " [production, increase, oil],\n",
       " [price, raise, oil]]"
      ]
     },
     "execution_count": 156,
     "metadata": {},
     "output_type": "execute_result"
    }
   ],
   "source": [
    "energy_ancs"
   ]
  },
  {
   "cell_type": "code",
   "execution_count": 109,
   "metadata": {},
   "outputs": [],
   "source": [
    "rate_up = ['raise', 'increase']\n",
    "rate_down = ['lower', 'decrease']\n",
    "\n",
    "up_counter_oil = 0\n",
    "down_counter_oil = 0\n",
    "up_counter_coal = 0\n",
    "down_counter_coal = 0"
   ]
  },
  {
   "cell_type": "code",
   "execution_count": 111,
   "metadata": {},
   "outputs": [
    {
     "data": {
      "text/plain": [
       "[price, raise]"
      ]
     },
     "execution_count": 111,
     "metadata": {},
     "output_type": "execute_result"
    }
   ],
   "source": [
    "for t_list in energy_ancs:\n",
    "    for token in t_list:\n",
    "        if str(token) == 'oil':\n",
    "            oil_anc = list(token.ancestors) # expect \"is\"\n",
    "\n",
    "oil_anc\n",
    "#for token in oil_anc:\n",
    "#    print(list(token.ancestors))"
   ]
  },
  {
   "cell_type": "code",
   "execution_count": 124,
   "metadata": {},
   "outputs": [
    {
     "name": "stdout",
     "output_type": "stream",
     "text": [
      "[increase]\n",
      "[decrease]\n",
      "[raise]\n"
     ]
    }
   ],
   "source": [
    "for t_list in energy_ancs:\n",
    "    for token in t_list:\n",
    "        if str(token) == 'price':\n",
    "            print(list(token.ancestors))"
   ]
  },
  {
   "cell_type": "code",
   "execution_count": 121,
   "metadata": {},
   "outputs": [],
   "source": []
  },
  {
   "cell_type": "code",
   "execution_count": 93,
   "metadata": {},
   "outputs": [
    {
     "name": "stdout",
     "output_type": "stream",
     "text": [
      "Up: 0 \n",
      "Down: 1\n"
     ]
    }
   ],
   "source": [
    "print('Up:', up_counter_oil, '\\nDown:', down_counter_oil)"
   ]
  },
  {
   "cell_type": "code",
   "execution_count": 74,
   "metadata": {},
   "outputs": [
    {
     "name": "stdout",
     "output_type": "stream",
     "text": [
      "Up: 0 \n",
      "Down: 0\n"
     ]
    }
   ],
   "source": [
    "print('Up:', up_counter_coal, '\\nDown:', down_counter_coal)"
   ]
  },
  {
   "cell_type": "code",
   "execution_count": null,
   "metadata": {},
   "outputs": [],
   "source": [
    "for t_list in energy_ancs:\n",
    "    #print(t_list) #debug\n",
    "    for token in t_list:\n",
    "        #print(token) #debug\n",
    "        if str(token) == 'accelerated':\n",
    "            print('ancestor', list(token.ancestors))\n",
    "            print('child', list(token.children))"
   ]
  },
  {
   "cell_type": "code",
   "execution_count": null,
   "metadata": {},
   "outputs": [],
   "source": [
    "for t_list in energy_ancs:\n",
    "    #print(t_list) #debug\n",
    "    for token in t_list:\n",
    "        #print(token) #debug\n",
    "        if str(token) == 'accelerated':\n",
    "            print('ancestor', list(token.ancestors))\n",
    "            print('child', list(token.children))"
   ]
  },
  {
   "cell_type": "code",
   "execution_count": null,
   "metadata": {},
   "outputs": [],
   "source": []
  }
 ],
 "metadata": {
  "kernelspec": {
   "display_name": "Python 3",
   "language": "python",
   "name": "python3"
  },
  "language_info": {
   "codemirror_mode": {
    "name": "ipython",
    "version": 3
   },
   "file_extension": ".py",
   "mimetype": "text/x-python",
   "name": "python",
   "nbconvert_exporter": "python",
   "pygments_lexer": "ipython3",
   "version": "3.8.3"
  }
 },
 "nbformat": 4,
 "nbformat_minor": 4
}
