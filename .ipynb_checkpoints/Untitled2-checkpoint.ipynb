{
 "cells": [
  {
   "cell_type": "code",
   "execution_count": 44,
   "metadata": {},
   "outputs": [],
   "source": [
    "# import statements belong at the top of your code\n",
    "import os\n",
    "import requests\n",
    "import PyPDF2 \n",
    "import spacy\n",
    "#import pandas as pd"
   ]
  },
  {
   "cell_type": "code",
   "execution_count": 45,
   "metadata": {},
   "outputs": [],
   "source": [
    "nlp = spacy.load(\"en_core_web_sm\") #English"
   ]
  },
  {
   "cell_type": "code",
   "execution_count": 55,
   "metadata": {},
   "outputs": [],
   "source": [
    "text = r\"The oil price will increase. The coal price will decrease. The oil emissions will decline. However, the oil production will increase. In addition, oil price will raise\"\n",
    "doc = nlp(text)"
   ]
  },
  {
   "cell_type": "code",
   "execution_count": 56,
   "metadata": {},
   "outputs": [],
   "source": [
    "kinds_of_energy_price = {'coal': [nc for nc in doc.noun_chunks if 'price' in nc.string and 'coal' in nc.string],\n",
    "                         'nuclear': [nc for nc in doc.noun_chunks if 'price' in nc.string and 'nuclear' in nc.string],\n",
    "                         'wind': [nc for nc in doc.noun_chunks if 'price' in nc.string and 'wind' in nc.string],\n",
    "                         'solar': [nc for nc in doc.noun_chunks if 'price' in nc.string and 'solar' in nc.string],\n",
    "                         'oil': [nc for nc in doc.noun_chunks if 'price' in nc.string and 'oil' in nc.string]}"
   ]
  },
  {
   "cell_type": "code",
   "execution_count": 57,
   "metadata": {},
   "outputs": [],
   "source": [
    "oil_prices_mentions = [t for nc in kinds_of_energy_price['oil'] for t in nc if t.text == 'price']\n",
    "coal_prices_mentions = [t for nc in kinds_of_energy_price['coal'] for t in nc if t.text == 'price']"
   ]
  },
  {
   "cell_type": "code",
   "execution_count": 58,
   "metadata": {},
   "outputs": [],
   "source": [
    "oil_price_ancestors = [list(p.ancestors) for p in oil_prices_mentions]\n",
    "coal_price_ancestors = [list(p.ancestors) for p in coal_prices_mentions]"
   ]
  },
  {
   "cell_type": "code",
   "execution_count": 59,
   "metadata": {},
   "outputs": [
    {
     "data": {
      "text/plain": [
       "[[increase], [raise]]"
      ]
     },
     "execution_count": 59,
     "metadata": {},
     "output_type": "execute_result"
    }
   ],
   "source": [
    "oil_price_ancestors"
   ]
  },
  {
   "cell_type": "code",
   "execution_count": 60,
   "metadata": {},
   "outputs": [
    {
     "data": {
      "text/plain": [
       "[[decrease]]"
      ]
     },
     "execution_count": 60,
     "metadata": {},
     "output_type": "execute_result"
    }
   ],
   "source": [
    "coal_price_ancestors"
   ]
  },
  {
   "cell_type": "code",
   "execution_count": 61,
   "metadata": {},
   "outputs": [],
   "source": [
    "up_price = ['raise', 'increase', 'up']\n",
    "down_price = ['lower', 'decrease', 'down','decline']\n",
    "\n",
    "up_counter_price = 0\n",
    "down_counter_price = 0"
   ]
  },
  {
   "cell_type": "code",
   "execution_count": 62,
   "metadata": {},
   "outputs": [],
   "source": [
    "def redact_names(price_ancestors):\n",
    "    global up_counter_price,down_counter_price\n",
    "    for p in price_ancestors:\n",
    "        for ancestor in p:\n",
    "            if ancestor.text in up_price:\n",
    "                up_counter_price += 1\n",
    "            elif ancestor.text in down_price:\n",
    "                down_counter_price += 1\n",
    "            \n",
    "redact_names(oil_price_ancestors)  "
   ]
  },
  {
   "cell_type": "code",
   "execution_count": 63,
   "metadata": {},
   "outputs": [
    {
     "name": "stdout",
     "output_type": "stream",
     "text": [
      "Up: 2 \n",
      "Down: 0\n"
     ]
    }
   ],
   "source": [
    "print('Up:', up_counter_price, '\\nDown:', down_counter_price)"
   ]
  },
  {
   "cell_type": "code",
   "execution_count": null,
   "metadata": {},
   "outputs": [],
   "source": []
  },
  {
   "cell_type": "code",
   "execution_count": null,
   "metadata": {},
   "outputs": [],
   "source": []
  },
  {
   "cell_type": "code",
   "execution_count": null,
   "metadata": {},
   "outputs": [],
   "source": []
  },
  {
   "cell_type": "code",
   "execution_count": null,
   "metadata": {},
   "outputs": [],
   "source": []
  },
  {
   "cell_type": "code",
   "execution_count": null,
   "metadata": {},
   "outputs": [],
   "source": []
  },
  {
   "cell_type": "code",
   "execution_count": null,
   "metadata": {},
   "outputs": [],
   "source": []
  }
 ],
 "metadata": {
  "kernelspec": {
   "display_name": "Python 3",
   "language": "python",
   "name": "python3"
  },
  "language_info": {
   "codemirror_mode": {
    "name": "ipython",
    "version": 3
   },
   "file_extension": ".py",
   "mimetype": "text/x-python",
   "name": "python",
   "nbconvert_exporter": "python",
   "pygments_lexer": "ipython3",
   "version": "3.8.3"
  }
 },
 "nbformat": 4,
 "nbformat_minor": 4
}
